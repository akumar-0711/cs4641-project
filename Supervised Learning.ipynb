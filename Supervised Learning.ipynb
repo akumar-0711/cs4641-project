{
 "cells": [
  {
   "cell_type": "markdown",
   "metadata": {},
   "source": [
    "This is the setup portion assuming you already have tracks.csv downloaded and the to_write.csv created from Unsupervised learning"
   ]
  },
  {
   "cell_type": "code",
   "execution_count": 148,
   "metadata": {},
   "outputs": [],
   "source": [
    "import pandas as pd\n",
    "import numpy as np \n",
    "import csv\n",
    "from sklearn import linear_model\n",
    "from matplotlib import pyplot as plt\n",
    "from sklearn.ensemble import RandomForestClassifier\n",
    "from sklearn.model_selection import train_test_split\n",
    "from sklearn.decomposition import PCA,TruncatedSVD\n",
    "\n",
    "from sklearn.metrics import classification_report"
   ]
  },
  {
   "cell_type": "markdown",
   "metadata": {},
   "source": [
    "Change DATADIR to your directory path to tracks.csv"
   ]
  },
  {
   "cell_type": "code",
   "execution_count": 149,
   "metadata": {},
   "outputs": [],
   "source": [
    "DATADIR = '/Users/harrison/Harrison/CS4641/Project/tracks.csv'\n",
    "#CATEGORIES = [\"Rock\", \"Pop\", \"Jazz\", \"Rap\", \"Hip Hop\", \"EDM\", \"Funk\"]\n",
    "results = []\n",
    "\n",
    "counter = 0\n",
    "min_tempo = float('inf')\n",
    "max_tempo = float('-inf')\n",
    "\n",
    "min_loud = float('inf')\n",
    "max_loud = float('-inf')\n",
    "\n",
    "with open(DATADIR) as csvfile:\n",
    "    reader = csv.reader(csvfile)#, quoting=csv.QUOTE_NONNUMERIC) # change contents to floats\n",
    "    for row in reader: # each row is a list\n",
    "        row = np.delete(row, 0,0) # id\n",
    "        row = np.delete(row, 0,0) # name \n",
    "        row = np.delete(row, 0,0) # popularity\n",
    "        row = np.delete(row, 0,0) # duration_ms\n",
    "        row = np.delete(row, 0,0) # explicit\n",
    "        row = np.delete(row, 0,0) # artists\n",
    "        row = np.delete(row, 0,0) # id_artists\n",
    "        row = np.delete(row, 0,0) # release_date\n",
    "        row = np.delete(row, 2,0) # key\n",
    "        row = np.delete(row, 10,0) # time signature\n",
    "        if not row[0] == 'danceability': #ignore the first row of labels\n",
    "            row = row.astype(np.float)\n",
    "            results.append(row)\n",
    "            \n",
    "            current_tempo = row[9]\n",
    "            if current_tempo > max_tempo:\n",
    "                max_tempo = current_tempo\n",
    "            if current_tempo < min_tempo:\n",
    "                min_tempo = current_tempo\n",
    "                \n",
    "            current_loud = row[2]\n",
    "            if current_loud > max_loud:\n",
    "                max_loud = current_loud\n",
    "            if current_loud < min_loud:\n",
    "                min_loud = current_loud\n",
    "\n",
    "\n",
    "for i in range(len(results)):\n",
    "    results[i][9] = (results[i][9] - min_tempo) / (max_tempo - min_tempo)\n",
    "    results[i][2] = (results[i][2] - min_loud) / (max_loud - min_loud)\n",
    "\n"
   ]
  },
  {
   "cell_type": "code",
   "execution_count": 150,
   "metadata": {},
   "outputs": [
    {
     "name": "stdout",
     "output_type": "stream",
     "text": [
      "[0.645      0.445      0.71374816 1.         0.451      0.674\n",
      " 0.744      0.151      0.127      0.42556447]\n"
     ]
    }
   ],
   "source": [
    "print(results[0])\n",
    "\n"
   ]
  },
  {
   "cell_type": "code",
   "execution_count": null,
   "metadata": {},
   "outputs": [],
   "source": [
    "\n",
    "    \n",
    "\n"
   ]
  },
  {
   "cell_type": "markdown",
   "metadata": {},
   "source": [
    "Change DATADIR_2 to your directory path to to_write.csv"
   ]
  },
  {
   "cell_type": "code",
   "execution_count": 151,
   "metadata": {},
   "outputs": [],
   "source": [
    "DATADIR_2 = '/Users/harrison/Harrison/CS4641/Project/to_write.csv'\n",
    "target = []\n",
    "with open(DATADIR_2) as csvfile2:\n",
    "    reader2 = csv.reader(csvfile2)\n",
    "    for row in reader2:\n",
    "        if not row[0] == 'Cluster':\n",
    "            row = np.array(row)\n",
    "            row = row.astype(np.float)\n",
    "            target.append(row)"
   ]
  },
  {
   "cell_type": "code",
   "execution_count": 152,
   "metadata": {},
   "outputs": [],
   "source": [
    "df_x = pd.DataFrame(results)\n",
    "df_y = pd.DataFrame(target)"
   ]
  },
  {
   "cell_type": "markdown",
   "metadata": {},
   "source": [
    "# Below is an attempt at Linear Regression. The results are very very poor so we needed to try something else."
   ]
  },
  {
   "cell_type": "code",
   "execution_count": 153,
   "metadata": {},
   "outputs": [
    {
     "data": {
      "text/plain": [
       "LinearRegression()"
      ]
     },
     "execution_count": 153,
     "metadata": {},
     "output_type": "execute_result"
    }
   ],
   "source": [
    "reg = linear_model.LinearRegression()\n",
    "x_train, x_test, y_train, y_test = train_test_split(df_x,df_y,test_size=0.2, random_state=4)\n",
    "reg.fit(x_train,y_train)\n"
   ]
  },
  {
   "cell_type": "code",
   "execution_count": 154,
   "metadata": {},
   "outputs": [
    {
     "data": {
      "text/plain": [
       "0.10777375219799168"
      ]
     },
     "execution_count": 154,
     "metadata": {},
     "output_type": "execute_result"
    }
   ],
   "source": [
    "reg.score(x_test,y_test)"
   ]
  },
  {
   "cell_type": "code",
   "execution_count": 155,
   "metadata": {},
   "outputs": [
    {
     "name": "stdout",
     "output_type": "stream",
     "text": [
      "              precision    recall  f1-score   support\n",
      "\n",
      "         0.0       0.08      1.00      0.14      8991\n",
      "         1.0       0.00      0.00      0.00      3335\n",
      "         2.0       0.00      0.00      0.00      4110\n",
      "         3.0       0.00      0.00      0.00      1521\n",
      "         4.0       0.00      0.00      0.00      3634\n",
      "         5.0       0.00      0.00      0.00      5394\n",
      "         6.0       0.00      0.00      0.00      1083\n",
      "         7.0       0.00      0.00      0.00       663\n",
      "         8.0       0.00      0.00      0.00      9140\n",
      "         9.0       0.00      0.00      0.00      3007\n",
      "        10.0       0.00      0.00      0.00      3337\n",
      "        11.0       0.00      0.00      0.00      4164\n",
      "        12.0       0.00      0.00      0.00      3774\n",
      "        13.0       0.00      0.00      0.00      6065\n",
      "        14.0       0.00      0.00      0.00      1609\n",
      "        15.0       0.00      0.00      0.00      3096\n",
      "        16.0       0.00      0.00      0.00      9153\n",
      "        17.0       0.00      0.00      0.00      9721\n",
      "        18.0       0.00      0.00      0.00      1584\n",
      "        19.0       0.00      0.00      0.00      3578\n",
      "        20.0       0.00      0.00      0.00       923\n",
      "        21.0       0.00      0.00      0.00     14464\n",
      "        22.0       0.00      0.00      0.00      4002\n",
      "        23.0       0.00      0.00      0.00       986\n",
      "        24.0       0.00      0.00      0.00     10001\n",
      "\n",
      "    accuracy                           0.08    117335\n",
      "   macro avg       0.00      0.04      0.01    117335\n",
      "weighted avg       0.01      0.08      0.01    117335\n",
      "\n"
     ]
    },
    {
     "name": "stderr",
     "output_type": "stream",
     "text": [
      "/Users/harrison/opt/anaconda3/lib/python3.8/site-packages/sklearn/metrics/_classification.py:1221: UndefinedMetricWarning: Precision and F-score are ill-defined and being set to 0.0 in labels with no predicted samples. Use `zero_division` parameter to control this behavior.\n",
      "  _warn_prf(average, modifier, msg_start, len(result))\n"
     ]
    }
   ],
   "source": [
    "Y_pred = np.argmax(reg.predict(x_test),axis=1)\n",
    "print(classification_report(y_test, Y_pred))"
   ]
  },
  {
   "cell_type": "markdown",
   "metadata": {},
   "source": [
    "# Trying Linear Regression with PCA"
   ]
  },
  {
   "cell_type": "code",
   "execution_count": 156,
   "metadata": {},
   "outputs": [],
   "source": [
    "pca = PCA(n_components=10, whiten='True')\n",
    "x = pca.fit(df_x).transform(df_x)"
   ]
  },
  {
   "cell_type": "code",
   "execution_count": 157,
   "metadata": {},
   "outputs": [
    {
     "data": {
      "text/plain": [
       "LinearRegression()"
      ]
     },
     "execution_count": 157,
     "metadata": {},
     "output_type": "execute_result"
    }
   ],
   "source": [
    "reg = linear_model.LinearRegression()\n",
    "x_train, x_test, y_train, y_test = train_test_split(x,df_y,test_size=0.2, random_state=4)\n",
    "reg.fit(x_train,y_train)"
   ]
  },
  {
   "cell_type": "code",
   "execution_count": 158,
   "metadata": {},
   "outputs": [
    {
     "data": {
      "text/plain": [
       "0.10777375219799168"
      ]
     },
     "execution_count": 158,
     "metadata": {},
     "output_type": "execute_result"
    }
   ],
   "source": [
    "reg.score(x_test,y_test)"
   ]
  },
  {
   "cell_type": "code",
   "execution_count": 159,
   "metadata": {},
   "outputs": [
    {
     "name": "stdout",
     "output_type": "stream",
     "text": [
      "              precision    recall  f1-score   support\n",
      "\n",
      "         0.0       0.08      1.00      0.14      8991\n",
      "         1.0       0.00      0.00      0.00      3335\n",
      "         2.0       0.00      0.00      0.00      4110\n",
      "         3.0       0.00      0.00      0.00      1521\n",
      "         4.0       0.00      0.00      0.00      3634\n",
      "         5.0       0.00      0.00      0.00      5394\n",
      "         6.0       0.00      0.00      0.00      1083\n",
      "         7.0       0.00      0.00      0.00       663\n",
      "         8.0       0.00      0.00      0.00      9140\n",
      "         9.0       0.00      0.00      0.00      3007\n",
      "        10.0       0.00      0.00      0.00      3337\n",
      "        11.0       0.00      0.00      0.00      4164\n",
      "        12.0       0.00      0.00      0.00      3774\n",
      "        13.0       0.00      0.00      0.00      6065\n",
      "        14.0       0.00      0.00      0.00      1609\n",
      "        15.0       0.00      0.00      0.00      3096\n",
      "        16.0       0.00      0.00      0.00      9153\n",
      "        17.0       0.00      0.00      0.00      9721\n",
      "        18.0       0.00      0.00      0.00      1584\n",
      "        19.0       0.00      0.00      0.00      3578\n",
      "        20.0       0.00      0.00      0.00       923\n",
      "        21.0       0.00      0.00      0.00     14464\n",
      "        22.0       0.00      0.00      0.00      4002\n",
      "        23.0       0.00      0.00      0.00       986\n",
      "        24.0       0.00      0.00      0.00     10001\n",
      "\n",
      "    accuracy                           0.08    117335\n",
      "   macro avg       0.00      0.04      0.01    117335\n",
      "weighted avg       0.01      0.08      0.01    117335\n",
      "\n"
     ]
    },
    {
     "name": "stderr",
     "output_type": "stream",
     "text": [
      "/Users/harrison/opt/anaconda3/lib/python3.8/site-packages/sklearn/metrics/_classification.py:1221: UndefinedMetricWarning: Precision and F-score are ill-defined and being set to 0.0 in labels with no predicted samples. Use `zero_division` parameter to control this behavior.\n",
      "  _warn_prf(average, modifier, msg_start, len(result))\n"
     ]
    }
   ],
   "source": [
    "Y_pred = np.argmax(reg.predict(x_test),axis=1)\n",
    "print(classification_report(y_test, Y_pred))"
   ]
  },
  {
   "cell_type": "markdown",
   "metadata": {},
   "source": [
    "# Trying Linear Regression with SVD"
   ]
  },
  {
   "cell_type": "code",
   "execution_count": 160,
   "metadata": {},
   "outputs": [
    {
     "data": {
      "text/plain": [
       "LinearRegression()"
      ]
     },
     "execution_count": 160,
     "metadata": {},
     "output_type": "execute_result"
    }
   ],
   "source": [
    "svd = TruncatedSVD(n_components = 9)\n",
    "x = svd.fit(df_x).transform(df_x)\n",
    "reg = linear_model.LinearRegression()\n",
    "x_train, x_test, y_train, y_test = train_test_split(x,df_y,test_size=0.2, random_state=4)\n",
    "reg.fit(x_train,y_train)"
   ]
  },
  {
   "cell_type": "code",
   "execution_count": 161,
   "metadata": {},
   "outputs": [
    {
     "data": {
      "text/plain": [
       "0.10775748457081513"
      ]
     },
     "execution_count": 161,
     "metadata": {},
     "output_type": "execute_result"
    }
   ],
   "source": [
    "reg.score(x_test,y_test)"
   ]
  },
  {
   "cell_type": "markdown",
   "metadata": {},
   "source": [
    "# This section is for Random Forest"
   ]
  },
  {
   "cell_type": "code",
   "execution_count": 162,
   "metadata": {},
   "outputs": [],
   "source": [
    "df_x1 = df_x.iloc[:,1:]\n",
    "df_y1 = df_y.iloc[:,0]"
   ]
  },
  {
   "cell_type": "code",
   "execution_count": 163,
   "metadata": {},
   "outputs": [
    {
     "data": {
      "text/plain": [
       "RandomForestClassifier(n_estimators=50)"
      ]
     },
     "execution_count": 163,
     "metadata": {},
     "output_type": "execute_result"
    }
   ],
   "source": [
    "x_train, x_test, y_train, y_test = train_test_split(df_x1,df_y1,test_size=0.2, random_state=4)\n",
    "rf = RandomForestClassifier(n_estimators = 50)\n",
    "rf.fit(x_train,y_train)"
   ]
  },
  {
   "cell_type": "code",
   "execution_count": 164,
   "metadata": {},
   "outputs": [],
   "source": [
    "pred = rf.predict(x_test)"
   ]
  },
  {
   "cell_type": "code",
   "execution_count": 165,
   "metadata": {},
   "outputs": [],
   "source": [
    "s = y_test.values\n",
    "count = 0\n",
    "for i in range(len(pred)):\n",
    "    if pred[i]==s[i]:\n",
    "        count = count + 1"
   ]
  },
  {
   "cell_type": "code",
   "execution_count": 166,
   "metadata": {},
   "outputs": [
    {
     "data": {
      "text/plain": [
       "0.9488728853283334"
      ]
     },
     "execution_count": 166,
     "metadata": {},
     "output_type": "execute_result"
    }
   ],
   "source": [
    "count/float(len(pred))"
   ]
  },
  {
   "cell_type": "code",
   "execution_count": 167,
   "metadata": {},
   "outputs": [
    {
     "name": "stdout",
     "output_type": "stream",
     "text": [
      "              precision    recall  f1-score   support\n",
      "\n",
      "         0.0       0.94      0.94      0.94      8991\n",
      "         1.0       0.99      0.98      0.98      3335\n",
      "         2.0       0.91      0.91      0.91      4110\n",
      "         3.0       0.95      0.94      0.94      1521\n",
      "         4.0       0.92      0.93      0.92      3634\n",
      "         5.0       0.95      0.95      0.95      5394\n",
      "         6.0       0.96      0.96      0.96      1083\n",
      "         7.0       0.94      0.92      0.93       663\n",
      "         8.0       0.96      0.96      0.96      9140\n",
      "         9.0       0.98      0.98      0.98      3007\n",
      "        10.0       0.97      0.95      0.96      3337\n",
      "        11.0       0.89      0.88      0.88      4164\n",
      "        12.0       0.94      0.95      0.95      3774\n",
      "        13.0       0.99      0.99      0.99      6065\n",
      "        14.0       0.96      0.97      0.96      1609\n",
      "        15.0       0.93      0.93      0.93      3096\n",
      "        16.0       0.95      0.95      0.95      9153\n",
      "        17.0       0.94      0.93      0.94      9721\n",
      "        18.0       0.99      0.98      0.99      1584\n",
      "        19.0       0.95      0.94      0.94      3578\n",
      "        20.0       0.96      0.95      0.96       923\n",
      "        21.0       0.95      0.96      0.96     14464\n",
      "        22.0       0.94      0.95      0.94      4002\n",
      "        23.0       0.93      0.92      0.92       986\n",
      "        24.0       0.95      0.96      0.95     10001\n",
      "\n",
      "    accuracy                           0.95    117335\n",
      "   macro avg       0.95      0.95      0.95    117335\n",
      "weighted avg       0.95      0.95      0.95    117335\n",
      "\n"
     ]
    }
   ],
   "source": [
    "print(classification_report(y_test, rf.predict(x_test)))"
   ]
  },
  {
   "cell_type": "code",
   "execution_count": null,
   "metadata": {},
   "outputs": [],
   "source": []
  },
  {
   "cell_type": "markdown",
   "metadata": {},
   "source": [
    "# Random Forest with PCA"
   ]
  },
  {
   "cell_type": "code",
   "execution_count": 24,
   "metadata": {},
   "outputs": [],
   "source": [
    "df_x1 = df_x.iloc[:,1:]\n",
    "df_y1 = df_y.iloc[:,0]"
   ]
  },
  {
   "cell_type": "code",
   "execution_count": 28,
   "metadata": {},
   "outputs": [],
   "source": [
    "pca = PCA(n_components=9, whiten='True')\n",
    "x = pca.fit(df_x1).transform(df_x1)"
   ]
  },
  {
   "cell_type": "code",
   "execution_count": 29,
   "metadata": {},
   "outputs": [
    {
     "data": {
      "text/plain": [
       "RandomForestClassifier(n_estimators=50)"
      ]
     },
     "execution_count": 29,
     "metadata": {},
     "output_type": "execute_result"
    }
   ],
   "source": [
    "rf = RandomForestClassifier(n_estimators = 50)\n",
    "x_train, x_test, y_train, y_test = train_test_split(x,df_y1,test_size=0.2, random_state=4)\n",
    "rf.fit(x_train,y_train)"
   ]
  },
  {
   "cell_type": "code",
   "execution_count": 45,
   "metadata": {},
   "outputs": [],
   "source": [
    "pred = rf.predict(x_test)"
   ]
  },
  {
   "cell_type": "code",
   "execution_count": 46,
   "metadata": {},
   "outputs": [],
   "source": [
    "s = y_test.values\n",
    "count = 0\n",
    "for i in range(len(pred)):\n",
    "    if pred[i]==s[i]:\n",
    "        count = count + 1"
   ]
  },
  {
   "cell_type": "code",
   "execution_count": 47,
   "metadata": {},
   "outputs": [
    {
     "data": {
      "text/plain": [
       "0.9900967315805174"
      ]
     },
     "execution_count": 47,
     "metadata": {},
     "output_type": "execute_result"
    }
   ],
   "source": [
    "count/float(len(pred))"
   ]
  },
  {
   "cell_type": "markdown",
   "metadata": {},
   "source": [
    "# Mapping Importance Features"
   ]
  },
  {
   "cell_type": "code",
   "execution_count": 168,
   "metadata": {},
   "outputs": [
    {
     "name": "stdout",
     "output_type": "stream",
     "text": [
      "Elapsed time to compute the importances: 0.064 seconds\n"
     ]
    }
   ],
   "source": [
    "import time\n",
    "import numpy as np\n",
    "\n",
    "start_time = time.time()\n",
    "importances = rf.feature_importances_\n",
    "std = np.std([\n",
    "    tree.feature_importances_ for tree in rf.estimators_], axis=0)\n",
    "elapsed_time = time.time() - start_time\n",
    "\n",
    "print(f\"Elapsed time to compute the importances: \"\n",
    "      f\"{elapsed_time:.3f} seconds\")"
   ]
  },
  {
   "cell_type": "code",
   "execution_count": 169,
   "metadata": {},
   "outputs": [],
   "source": [
    "from sklearn.ensemble import RandomForestClassifier\n",
    "\n",
    "feature_names = ['danceability', 'energy', 'loudness', 'speechiness', 'acousticness', 'instrumentalness', 'liveness', 'valence', 'tempo']"
   ]
  },
  {
   "cell_type": "code",
   "execution_count": 170,
   "metadata": {},
   "outputs": [
    {
     "data": {
      "image/png": "[encoded data removed]",
      "text/plain": [
       "<Figure size 432x288 with 1 Axes>"
      ]
     },
     "metadata": {
      "needs_background": "light"
     },
     "output_type": "display_data"
    }
   ],
   "source": [
    "import pandas as pd\n",
    "forest_importances = pd.Series(importances, index=feature_names)\n",
    "\n",
    "fig, ax = plt.subplots()\n",
    "forest_importances.plot.bar(yerr=std, ax=ax)\n",
    "ax.set_title(\"Feature importances using MDI\")\n",
    "ax.set_ylabel(\"Mean decrease in impurity\")\n",
    "fig.tight_layout()"
   ]
  },
  {
   "cell_type": "code",
   "execution_count": 171,
   "metadata": {},
   "outputs": [
    {
     "name": "stdout",
     "output_type": "stream",
     "text": [
      "[0.12215569 0.02693289 0.1467606  0.06627454 0.21946629 0.12738305\n",
      " 0.07065811 0.20094752 0.01942131]\n"
     ]
    }
   ],
   "source": [
    "print(rf.feature_importances_)"
   ]
  }
 ],
 "metadata": {
  "kernelspec": {
   "display_name": "Python 3",
   "language": "python",
   "name": "python3"
  },
  "language_info": {
   "codemirror_mode": {
    "name": "ipython",
    "version": 3
   },
   "file_extension": ".py",
   "mimetype": "text/x-python",
   "name": "python",
   "nbconvert_exporter": "python",
   "pygments_lexer": "ipython3",
   "version": "3.8.5"
  }
 },
 "nbformat": 4,
 "nbformat_minor": 4
}
